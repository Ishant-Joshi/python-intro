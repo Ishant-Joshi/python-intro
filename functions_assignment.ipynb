{
 "cells": [
  {
   "cell_type": "markdown",
   "id": "2dc67565",
   "metadata": {},
   "source": [
    "# Python Functions Assignment Solutions"
   ]
  },
  {
   "cell_type": "markdown",
   "id": "427fec6a",
   "metadata": {},
   "source": [
    "**Q1. What is the difference between a function and a method in Python?**\n",
    "\n",
    "A **function** is a block of reusable code defined using `def`, independent of classes.\n",
    "\n",
    "A **method** is a function defined inside a class and usually works on object data (`self`).\n",
    "\n",
    "**Example:**\n",
    "```python\n",
    "def greet(name):\n",
    "    return f\"Hello {name}\"  # Function\n",
    "\n",
    "class Person:\n",
    "    def greet(self):\n",
    "        return f\"Hello {self.name}\"  # Method\n",
    "```"
   ]
  },
  {
   "cell_type": "markdown",
   "id": "5765c9a7",
   "metadata": {},
   "source": [
    "**Q2. Explain the concept of function arguments and parameters in Python.**\n",
    "\n",
    "- **Parameters**: placeholders in function definition.\n",
    "- **Arguments**: actual values passed when calling.\n",
    "\n",
    "**Example:**\n",
    "```python\n",
    "def add(a, b):   # a, b are parameters\n",
    "    return a + b\n",
    "\n",
    "print(add(3, 5))  # 3, 5 are arguments\n",
    "```"
   ]
  },
  {
   "cell_type": "markdown",
   "id": "53cd8bdd",
   "metadata": {},
   "source": [
    "**Q3. What are the different ways to define and call a function in Python?**\n",
    "\n",
    "- Normal function using `def`\n",
    "- Function with default parameters\n",
    "- Variable length (`*args`, `**kwargs`)\n",
    "- Lambda functions\n",
    "- Nested functions\n",
    "\n",
    "**Example call:** Positional, Keyword, Default, Unpacking."
   ]
  },
  {
   "cell_type": "markdown",
   "id": "d632135b",
   "metadata": {},
   "source": [
    "**Q4. What is the purpose of the return statement in a Python function?**\n",
    "\n",
    "- To send data back to the caller.\n",
    "- Ends function execution.\n",
    "- Can return single/multiple values.\n",
    "\n",
    "**Example:**\n",
    "```python\n",
    "def add(a, b):\n",
    "    return a+b\n",
    "```"
   ]
  },
  {
   "cell_type": "markdown",
   "id": "43ab488d",
   "metadata": {},
   "source": [
    "**Q5. What are iterators in Python and how do they differ from iterables?**\n",
    "\n",
    "- **Iterable**: object you can loop over (list, tuple, string).\n",
    "- **Iterator**: object with `__iter__()` and `__next__()` that returns next item.\n",
    "\n",
    "**Example:**\n",
    "```python\n",
    "nums = [1,2,3]\n",
    "it = iter(nums)\n",
    "print(next(it))  # 1\n",
    "```"
   ]
  },
  {
   "cell_type": "markdown",
   "id": "d0bd341b",
   "metadata": {},
   "source": [
    "**Q6. Explain the concept of generators in Python and how they are defined.**\n",
    "\n",
    "- Generators are special iterators defined with `yield` or generator expressions.\n",
    "- They produce values lazily (one at a time).\n",
    "\n",
    "**Example:**\n",
    "```python\n",
    "def counter(n):\n",
    "    for i in range(n):\n",
    "        yield i\n",
    "```"
   ]
  },
  {
   "cell_type": "markdown",
   "id": "752e6342",
   "metadata": {},
   "source": [
    "**Q7. What are the advantages of using generators over regular functions?**\n",
    "\n",
    "- Memory efficient (don’t store all values)\n",
    "- Lazy evaluation\n",
    "- Can represent infinite sequences\n",
    "- Cleaner syntax than manual iterators"
   ]
  },
  {
   "cell_type": "markdown",
   "id": "6041557e",
   "metadata": {},
   "source": [
    "**Q8. What is a lambda function in Python and when is it typically used?**\n",
    "\n",
    "- Anonymous one-line function defined with `lambda` keyword.\n",
    "- Used for short operations, often with map/filter/sort.\n",
    "\n",
    "**Example:** `square = lambda x: x*x`"
   ]
  },
  {
   "cell_type": "markdown",
   "id": "7d5793a7",
   "metadata": {},
   "source": [
    "**Q9. Explain the purpose and usage of the map() function in Python.**\n",
    "\n",
    "- Applies a function to every element of an iterable.\n",
    "\n",
    "**Example:**\n",
    "```python\n",
    "nums=[1,2,3]\n",
    "squares = list(map(lambda x: x*x, nums))\n",
    "```"
   ]
  },
  {
   "cell_type": "markdown",
   "id": "db87afc1",
   "metadata": {},
   "source": [
    "**Q10. What is the difference between map(), reduce(), and filter() in Python?**\n",
    "\n",
    "- `map()`: applies a function to each element.\n",
    "- `filter()`: keeps elements that satisfy condition.\n",
    "- `reduce()`: combines all elements into one value.\n",
    "\n",
    "**Example:**\n",
    "```python\n",
    "from functools import reduce\n",
    "nums=[1,2,3,4]\n",
    "sum_all = reduce(lambda a,b:a+b, nums)\n",
    "```"
   ]
  },
  {
   "cell_type": "markdown",
   "id": "8c014694",
   "metadata": {},
   "source": [
    "**Practical Q1. Sum of even numbers in a list**"
   ]
  },
  {
   "cell_type": "code",
   "execution_count": 1,
   "id": "82da1413",
   "metadata": {},
   "outputs": [
    {
     "name": "stdout",
     "output_type": "stream",
     "text": [
      "12\n"
     ]
    }
   ],
   "source": [
    "def sum_even(numbers):\n",
    "    return sum(n for n in numbers if n%2==0)\n",
    "\n",
    "print(sum_even([1,2,3,4,5,6]))"
   ]
  },
  {
   "cell_type": "markdown",
   "id": "64ad7724",
   "metadata": {},
   "source": [
    "**Practical Q2. Reverse a string**"
   ]
  },
  {
   "cell_type": "code",
   "execution_count": 2,
   "id": "780bb41e",
   "metadata": {},
   "outputs": [
    {
     "name": "stdout",
     "output_type": "stream",
     "text": [
      "olleh\n"
     ]
    }
   ],
   "source": [
    "def reverse_string(s):\n",
    "    return s[::-1]\n",
    "\n",
    "print(reverse_string('hello'))"
   ]
  },
  {
   "cell_type": "markdown",
   "id": "77095bc5",
   "metadata": {},
   "source": [
    "**Practical Q3. Squares of list numbers**"
   ]
  },
  {
   "cell_type": "code",
   "execution_count": 3,
   "id": "aa6b0035",
   "metadata": {},
   "outputs": [
    {
     "name": "stdout",
     "output_type": "stream",
     "text": [
      "[1, 4, 9, 16]\n"
     ]
    }
   ],
   "source": [
    "def squares(lst):\n",
    "    return [x*x for x in lst]\n",
    "\n",
    "print(squares([1,2,3,4]))"
   ]
  },
  {
   "cell_type": "markdown",
   "id": "5cbf367b",
   "metadata": {},
   "source": [
    "**Practical Q4. Prime check from 1 to 200**"
   ]
  },
  {
   "cell_type": "code",
   "execution_count": 4,
   "id": "9b94c6a4",
   "metadata": {},
   "outputs": [
    {
     "name": "stdout",
     "output_type": "stream",
     "text": [
      "[2, 3, 5, 7, 11, 13, 17, 19, 23, 29, 31, 37, 41, 43, 47, 53, 59, 61, 67, 71, 73, 79, 83, 89, 97, 101, 103, 107, 109, 113, 127, 131, 137, 139, 149, 151, 157, 163, 167, 173, 179, 181, 191, 193, 197, 199]\n"
     ]
    }
   ],
   "source": [
    "def is_prime(n):\n",
    "    if n<2: return False\n",
    "    for i in range(2,int(n**0.5)+1):\n",
    "        if n%i==0:\n",
    "            return False\n",
    "    return True\n",
    "\n",
    "primes=[n for n in range(1,201) if is_prime(n)]\n",
    "print(primes)"
   ]
  },
  {
   "cell_type": "markdown",
   "id": "84168317",
   "metadata": {},
   "source": [
    "**Practical Q5. Iterator class Fibonacci**"
   ]
  },
  {
   "cell_type": "code",
   "execution_count": 5,
   "id": "fddf9b92",
   "metadata": {},
   "outputs": [
    {
     "name": "stdout",
     "output_type": "stream",
     "text": [
      "0 1 1 2 3 5 8 13 21 34 "
     ]
    }
   ],
   "source": [
    "class Fibonacci:\n",
    "    def __init__(self, n):\n",
    "        self.n=n\n",
    "        self.a=0\n",
    "        self.b=1\n",
    "        self.count=0\n",
    "    def __iter__(self):\n",
    "        return self\n",
    "    def __next__(self):\n",
    "        if self.count<self.n:\n",
    "            val=self.a\n",
    "            self.a, self.b = self.b, self.a+self.b\n",
    "            self.count+=1\n",
    "            return val\n",
    "        else:\n",
    "            raise StopIteration\n",
    "\n",
    "for f in Fibonacci(10):\n",
    "    print(f,end=' ')"
   ]
  },
  {
   "cell_type": "markdown",
   "id": "b5e306e1",
   "metadata": {},
   "source": [
    "**Practical Q6. Generator powers of 2**"
   ]
  },
  {
   "cell_type": "code",
   "execution_count": 6,
   "id": "e15f96db",
   "metadata": {},
   "outputs": [
    {
     "name": "stdout",
     "output_type": "stream",
     "text": [
      "[1, 2, 4, 8, 16, 32]\n"
     ]
    }
   ],
   "source": [
    "def powers_of_two(n):\n",
    "    for i in range(n+1):\n",
    "        yield 2**i\n",
    "\n",
    "print(list(powers_of_two(5)))"
   ]
  },
  {
   "cell_type": "markdown",
   "id": "c6ecd1a4",
   "metadata": {},
   "source": [
    "**Practical Q7. Generator read file line by line**"
   ]
  },
  {
   "cell_type": "code",
   "execution_count": 7,
   "id": "f66a3391",
   "metadata": {},
   "outputs": [],
   "source": [
    "def read_file(filename):\n",
    "    with open(filename,'r') as f:\n",
    "        for line in f:\n",
    "            yield line.strip()\n",
    "\n",
    "# Example (needs file):\n",
    "# for line in read_file('test.txt'):\n",
    "#     print(line)"
   ]
  },
  {
   "cell_type": "markdown",
   "id": "99c71247",
   "metadata": {},
   "source": [
    "**Practical Q8. Lambda sort by 2nd element**"
   ]
  },
  {
   "cell_type": "code",
   "execution_count": 8,
   "id": "da035236",
   "metadata": {},
   "outputs": [
    {
     "name": "stdout",
     "output_type": "stream",
     "text": [
      "[(3, 1), (2, 2), (1, 3)]\n"
     ]
    }
   ],
   "source": [
    "data=[(1,3),(2,2),(3,1)]\n",
    "print(sorted(data,key=lambda x:x[1]))"
   ]
  },
  {
   "cell_type": "markdown",
   "id": "f3058938",
   "metadata": {},
   "source": [
    "**Practical Q9. Map Celsius to Fahrenheit**"
   ]
  },
  {
   "cell_type": "code",
   "execution_count": 9,
   "id": "5f5654d9",
   "metadata": {},
   "outputs": [
    {
     "name": "stdout",
     "output_type": "stream",
     "text": [
      "[32.0, 50.0, 68.0, 86.0]\n"
     ]
    }
   ],
   "source": [
    "temps=[0,10,20,30]\n",
    "fahrenheit=list(map(lambda c:(c*9/5)+32, temps))\n",
    "print(fahrenheit)"
   ]
  },
  {
   "cell_type": "markdown",
   "id": "957e9bf8",
   "metadata": {},
   "source": [
    "**Practical Q10. Filter vowels from string**"
   ]
  },
  {
   "cell_type": "code",
   "execution_count": 10,
   "id": "bb769ab6",
   "metadata": {},
   "outputs": [
    {
     "name": "stdout",
     "output_type": "stream",
     "text": [
      "Hll Wrld\n"
     ]
    }
   ],
   "source": [
    "def remove_vowels(s):\n",
    "    vowels='aeiouAEIOU'\n",
    "    return ''.join(filter(lambda ch: ch not in vowels, s))\n",
    "\n",
    "print(remove_vowels('Hello World'))"
   ]
  },
  {
   "cell_type": "markdown",
   "id": "26d07f2f",
   "metadata": {},
   "source": [
    "**Practical Q11. Accounting routine with lambda + map**"
   ]
  },
  {
   "cell_type": "code",
   "execution_count": 11,
   "id": "020b4951",
   "metadata": {},
   "outputs": [
    {
     "name": "stdout",
     "output_type": "stream",
     "text": [
      "[(1, 70.0), (2, 60.0), (3, 120.0)]\n"
     ]
    }
   ],
   "source": [
    "orders = [[1,2,30.0],[2,5,10.0],[3,3,40.0]]\n",
    "# Format: [order_no, quantity, price_per_item]\n",
    "\n",
    "result = list(map(lambda x: (x[0], x[1]*x[2] if x[1]*x[2]>=100 else x[1]*x[2]+10), orders))\n",
    "print(result)"
   ]
  }
 ],
 "metadata": {
  "kernelspec": {
   "display_name": "Python [conda env:base] *",
   "language": "python",
   "name": "conda-base-py"
  },
  "language_info": {
   "codemirror_mode": {
    "name": "ipython",
    "version": 3
   },
   "file_extension": ".py",
   "mimetype": "text/x-python",
   "name": "python",
   "nbconvert_exporter": "python",
   "pygments_lexer": "ipython3",
   "version": "3.12.7"
  }
 },
 "nbformat": 4,
 "nbformat_minor": 5
}
