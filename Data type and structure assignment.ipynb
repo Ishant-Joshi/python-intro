{
 "cells": [
  {
   "cell_type": "markdown",
   "id": "22601e2a-72fa-4d8e-9014-b4818df46292",
   "metadata": {},
   "source": [
    "1. What are data structures, and why are they important?\n",
    "   - Data structure is a special format that contain data in a proper manner and can be used as per future needs.\n",
    "   - They are important because It helps us to organise , and access data without any hassel.\n",
    "   - It also help us to mutate the data as per need.\n",
    "\n",
    "2. Explain the difference between mutable and immutable data types with examples?\n",
    "    - Mutability is a property of data type where you can make amendments using special keywords.(List, sets, dictionaries)\n",
    "    - Immutabilty is also a property that are usually associated with string and tuples, which means there is no option to make changes in these data type.\n",
    "   "
   ]
  },
  {
   "cell_type": "code",
   "execution_count": 53,
   "id": "9008a7de-91c1-4989-998b-e63f010c752d",
   "metadata": {},
   "outputs": [
    {
     "ename": "TypeError",
     "evalue": "'str' object does not support item assignment",
     "output_type": "error",
     "traceback": [
      "\u001b[1;31m---------------------------------------------------------------------------\u001b[0m",
      "\u001b[1;31mTypeError\u001b[0m                                 Traceback (most recent call last)",
      "Cell \u001b[1;32mIn[53], line 3\u001b[0m\n\u001b[0;32m      1\u001b[0m \u001b[38;5;66;03m#example of immutability:\u001b[39;00m\n\u001b[0;32m      2\u001b[0m string\u001b[38;5;241m=\u001b[39m (\u001b[38;5;124m\"\u001b[39m\u001b[38;5;124mXYZ,  ABC\u001b[39m\u001b[38;5;124m\"\u001b[39m)\n\u001b[1;32m----> 3\u001b[0m string[\u001b[38;5;241m0\u001b[39m]\u001b[38;5;241m=\u001b[39m \u001b[38;5;124m\"\u001b[39m\u001b[38;5;124mPQR\u001b[39m\u001b[38;5;124m\"\u001b[39m\n",
      "\u001b[1;31mTypeError\u001b[0m: 'str' object does not support item assignment"
     ]
    }
   ],
   "source": [
    "#example of immutability:\n",
    "string= (\"XYZ,  ABC\")\n",
    "string[0]= \"PQR\"\n"
   ]
  },
  {
   "cell_type": "code",
   "execution_count": 19,
   "id": "58f3c0ab-3233-4e60-92a1-055a1c5924b4",
   "metadata": {},
   "outputs": [
    {
     "data": {
      "text/plain": [
       "['biscuit', 2, 3, 'brush', 'assignment']"
      ]
     },
     "execution_count": 19,
     "metadata": {},
     "output_type": "execute_result"
    }
   ],
   "source": [
    "#example of mutability:\n",
    "List1= [1,2,3, \"brush\", \"assignment\"]\n",
    "List1[0]= \"biscuit\"\n",
    "List1"
   ]
  },
  {
   "cell_type": "markdown",
   "id": "db3a54cb-fde0-46f0-b722-1e08122444ce",
   "metadata": {},
   "source": [
    "3. What are the main differences between lists and tuples in Python?\n",
    "    - Lists are organised , mutable data type which one can use to access data.\n",
    "    - Tuples are organised, immutable data type which one can use but cannot make changes.\n",
    "\n",
    "4. Describe how dictionaries store data?\n",
    "    - Dictionaries always store data in the form of pair of key and value.\n",
    "    - Values will be defined by the keys which will be allocated.\n",
    "    - Dic_tion= {\"key\":\"value\", \"key\":\"value\"}\n",
    "\n",
    "5. Why might you use a set instead of a list in Python?\n",
    "    - I will use sets instead of list because a set will not contain any repeated values but in list there can be repeated values, which can make item alloment difficult.\n",
    "\n",
    "6. What is a string in Python, and how is it different from a list?\n",
    "    - String in python is data type which organise and store data to make a record. It is different from list because it is immutable and can never be changed once assigned but A list is mutable and can be use to modify the data provided.\n",
    "\n",
    "7. How do tuples ensure data integrity in Python?\n",
    "    - Tuple is a immutable and organised date structure which can be used for fixed date only. If anything is already assigned which means that nothing can be changed in tuple, which also helps in data integrity.\n",
    "  \n",
    "8. What is a hash table, and how does it relate to dictionaries in Python?\n",
    "    - Don't know\n",
    "  \n",
    "9. Can lists contain different data types in Python?\n",
    "    - Yes,list can contain different data type in python.\n",
    "\n",
    "10. Explain why strings are immutable in Python?\n",
    "    - strings are immutable because strings are oftenly used to store data which can be important and can strings provide data immutability that help the data not to be changed by anyone. So strings data can be shared to anywhere without any problem.\n",
    "\n",
    "11. What advantages do dictionaries offer over lists for certain tasks?\n",
    "    - Dictionaries provide flexibility in data handling over list, as it stored data in the key,value pair. Its easy to call and assign new data with respect to keys allocated.\n",
    "\n",
    "12. Describe a scenario where using a tuple would be preferable over a list?\n",
    "    - If a company wants to store data of their enployees:\n",
    "    - employee id  or contact number.\n",
    "    - In this case tuple would be preferable than list.\n",
    "    - List can be altered where tuple cannot.\n",
    "    - so data would be safe and nobody can make changes.\n",
    "    \n",
    "13. How do sets handle duplicate values in Python?\n",
    "    - Sets used to consider duplicate as one, so all the duplicate elements will club together and consider as one. As we all know sets are unordered so there is no concept of indexing.\n",
    "   \n",
    "14. How does the “in” keyword work differently for lists and dictionaries?\n",
    "    - \"In\" keyword is used in list is different as it can access data directly, but in dictionaries we have to define which data to access, either its keys or values.\n",
    "   \n",
    "15. Can you modify the elements of a tuple? Explain why or why not?\n",
    "    - No, we cannot modify the element of tuple as tuple are immutable. So once value will be defined, it cannot be redefined.\n",
    "\n",
    "16. What is a nested dictionary, and give an example of its use case?\n",
    "    - Nested dictionary is a form of dictionary where one can store  multiple dictionary inside one.\n",
    "\n",
    "      students = {\n",
    "    \"101\": {\"name\": \"Ishant\", \"age\": 20, \"grade\": \"A\"},\n",
    "    \"102\": {\"name\": \"Aarav\", \"age\": 22, \"grade\": \"B\"},\n",
    "    \"103\": {\"name\": \"Meera\", \"age\": 21, \"grade\": \"A+\"}\n",
    "}\n",
    "\n",
    "17. Describe the time complexity of accessing elements in a dictionary?\n",
    "    - Not covered yet.\n",
    "   \n",
    "18. In what situations are lists preferred over dictionaries?\n",
    "    - List is preferred over dictionaries when there is need of indexing or quick accessing the data.\n",
    "   \n",
    "19. Why are dictionaries considered unordered, and how does that affect data retrieval?\n",
    "    - As there is no concept of indexing, that is why dictionaries is considered unorganised and also data retrieval is difficult.\n",
    "\n",
    "20. Explain the difference between a list and a dictionary in terms of data retrieval.\n",
    "    - A list is in the form of sequence but dictionaries is in the form of key, value pair.\n",
    "    - a list can be accessed with the indexes but dictionaries can only be accessed with \".keys\" or \".values\".\n",
    "\n"
   ]
  },
  {
   "cell_type": "markdown",
   "id": "4202ef83-6720-4470-884f-d679b802eb41",
   "metadata": {},
   "source": [
    "PRACTICAL QUESTIONS"
   ]
  },
  {
   "cell_type": "code",
   "execution_count": 54,
   "id": "23a0d27f-9797-4e53-9f88-b04e4b87f683",
   "metadata": {},
   "outputs": [
    {
     "name": "stdout",
     "output_type": "stream",
     "text": [
      "XYZ\n"
     ]
    }
   ],
   "source": [
    "# 1. Write a code to create a string with your name and print it?\n",
    "name= \"XYZ\"\n",
    "print(name)"
   ]
  },
  {
   "cell_type": "code",
   "execution_count": 55,
   "id": "65f51856-1a04-47b6-9cf7-7a3c1331276f",
   "metadata": {},
   "outputs": [
    {
     "data": {
      "text/plain": [
       "11"
      ]
     },
     "execution_count": 55,
     "metadata": {},
     "output_type": "execute_result"
    }
   ],
   "source": [
    "#2. Write a code to find the length of the string \"Hello World\"?\n",
    "A= \"Hello World\"\n",
    "len(A)\n"
   ]
  },
  {
   "cell_type": "code",
   "execution_count": 3,
   "id": "bb303c67-89be-4490-8b2a-9f6061286ac9",
   "metadata": {},
   "outputs": [
    {
     "name": "stdout",
     "output_type": "stream",
     "text": [
      "Pyt\n"
     ]
    }
   ],
   "source": [
    "#3. Write a code to slice the first 3 characters from the string \"Python Programming\". \n",
    "A= (\"Python Programming\")\n",
    "first_three= A[0:3]\n",
    "print(first_three)"
   ]
  },
  {
   "cell_type": "code",
   "execution_count": 5,
   "id": "736f8685-6360-4fef-8e24-5c2719e3a956",
   "metadata": {},
   "outputs": [
    {
     "data": {
      "text/plain": [
       "'HELLO'"
      ]
     },
     "execution_count": 5,
     "metadata": {},
     "output_type": "execute_result"
    }
   ],
   "source": [
    "#4. Write a code to convert the string \"hello\" to uppercase. \n",
    "A= \"hello\"\n",
    "A.upper()"
   ]
  },
  {
   "cell_type": "code",
   "execution_count": 6,
   "id": "838aea40-0d2a-4bd3-be1a-40992c232cfb",
   "metadata": {},
   "outputs": [
    {
     "data": {
      "text/plain": [
       "'I like orange'"
      ]
     },
     "execution_count": 6,
     "metadata": {},
     "output_type": "execute_result"
    }
   ],
   "source": [
    "#5. Write a code to replace the word \"apple\" with \"orange\" in the string \"I like apple\"?\n",
    "s= (\"I like apple\")\n",
    "s.replace(\"apple\", \"orange\")"
   ]
  },
  {
   "cell_type": "code",
   "execution_count": 10,
   "id": "4b5e12ae-132d-45ce-afec-5e73b6dcd28a",
   "metadata": {},
   "outputs": [
    {
     "name": "stdout",
     "output_type": "stream",
     "text": [
      "List : [1, 2, 3, 4, 5]\n"
     ]
    }
   ],
   "source": [
    "#6. Write a code to create a list with numbers 1 to 5 and print it.\n",
    "L1= [1,2,3,4,5]\n",
    "print( \"List :\",L1)"
   ]
  },
  {
   "cell_type": "code",
   "execution_count": 12,
   "id": "e5f8a703-48aa-47ae-8c99-1fadfe6601fd",
   "metadata": {},
   "outputs": [
    {
     "data": {
      "text/plain": [
       "[1, 2, 3, 4, 10]"
      ]
     },
     "execution_count": 12,
     "metadata": {},
     "output_type": "execute_result"
    }
   ],
   "source": [
    "#7. Write a code to append the number 10 to the list [1, 2, 3, 4]\n",
    "List= [1,2,3,4]\n",
    "List.append(10)\n",
    "List"
   ]
  },
  {
   "cell_type": "code",
   "execution_count": 13,
   "id": "df95df45-8431-4a0a-bbdd-d82cbc2de4d6",
   "metadata": {},
   "outputs": [
    {
     "data": {
      "text/plain": [
       "[1, 2, 4, 5]"
      ]
     },
     "execution_count": 13,
     "metadata": {},
     "output_type": "execute_result"
    }
   ],
   "source": [
    "#8.Write a code to remove the number 3 from the list [1, 2, 3, 4, 5]\n",
    "L2=[1,2,3,4,5]\n",
    "L2.remove(3)\n",
    "L2"
   ]
  },
  {
   "cell_type": "code",
   "execution_count": 16,
   "id": "34952a01-5b3c-4b4e-bc80-36c0de133e07",
   "metadata": {},
   "outputs": [
    {
     "data": {
      "text/plain": [
       "'b'"
      ]
     },
     "execution_count": 16,
     "metadata": {},
     "output_type": "execute_result"
    }
   ],
   "source": [
    "#9. Write a code to access the second element in the list ['a', 'b', 'c', 'd']\n",
    "L3= ['a', 'b', 'c', 'd']\n",
    "L3[1]"
   ]
  },
  {
   "cell_type": "code",
   "execution_count": 18,
   "id": "7480a4fb-8195-491d-b0c0-adedc8c4d59d",
   "metadata": {},
   "outputs": [
    {
     "data": {
      "text/plain": [
       "[50, 40, 30, 20, 10]"
      ]
     },
     "execution_count": 18,
     "metadata": {},
     "output_type": "execute_result"
    }
   ],
   "source": [
    "#10. Write a code to reverse the list [10, 20, 30, 40, 50].\n",
    "L4= [10, 20, 30, 40, 50]\n",
    "L4.reverse()\n",
    "L4"
   ]
  },
  {
   "cell_type": "code",
   "execution_count": 20,
   "id": "e9df8c28-e4bb-4661-b3ab-00a5b0982f6f",
   "metadata": {},
   "outputs": [
    {
     "name": "stdout",
     "output_type": "stream",
     "text": [
      "(100, 200, 300)\n"
     ]
    }
   ],
   "source": [
    "#11.  Write a code to create a tuple with the elements 100, 200, 300 and print it.\n",
    "my_tuple= (100,200,300)\n",
    "print(my_tuple)"
   ]
  },
  {
   "cell_type": "code",
   "execution_count": 34,
   "id": "9e21151e-2fb3-4d65-8563-ea74b85c1701",
   "metadata": {},
   "outputs": [
    {
     "data": {
      "text/plain": [
       "('green', 'blue', 'yellow')"
      ]
     },
     "execution_count": 34,
     "metadata": {},
     "output_type": "execute_result"
    }
   ],
   "source": [
    "# 12. Write a code to access the second-to-last element of the tuple ('red', 'green', 'blue', 'yellow').\n",
    "T2= ('red', 'green', 'blue', 'yellow')\n",
    "T2[1:] "
   ]
  },
  {
   "cell_type": "code",
   "execution_count": 42,
   "id": "c62ec65e-116a-4782-9b7d-527ab3c205ad",
   "metadata": {},
   "outputs": [
    {
     "data": {
      "text/plain": [
       "5"
      ]
     },
     "execution_count": 42,
     "metadata": {},
     "output_type": "execute_result"
    }
   ],
   "source": [
    "#13. Write a code to find the minimum number in the tuple (10, 20, 5, 15).\n",
    "T3= (10, 20, 5, 15)\n",
    "min(T3)"
   ]
  },
  {
   "cell_type": "code",
   "execution_count": 43,
   "id": "0640ab67-607e-4211-84ab-b140d0114317",
   "metadata": {},
   "outputs": [
    {
     "data": {
      "text/plain": [
       "1"
      ]
     },
     "execution_count": 43,
     "metadata": {},
     "output_type": "execute_result"
    }
   ],
   "source": [
    "#14. Write a code to find the index of the element \"cat\" in the tuple ('dog', 'cat', 'rabbit').\n",
    "T4= ('dog', 'cat', 'rabbit')\n",
    "T4.index(\"cat\")"
   ]
  },
  {
   "cell_type": "code",
   "execution_count": 52,
   "id": "8caccfc8-4ccd-43d3-bb6f-ff866185a59c",
   "metadata": {},
   "outputs": [
    {
     "data": {
      "text/plain": [
       "False"
      ]
     },
     "execution_count": 52,
     "metadata": {},
     "output_type": "execute_result"
    }
   ],
   "source": [
    "#15.  Write a code to create a tuple containing three different fruits and check if \"kiwi\" is in it.\n",
    "T5= (\"mango\",\"banana\",\"watermelon\")\n",
    "\"Kiwi\" in T5"
   ]
  },
  {
   "cell_type": "code",
   "execution_count": 56,
   "id": "393621c8-e99d-4c42-a9f7-c761397a0919",
   "metadata": {},
   "outputs": [
    {
     "name": "stdout",
     "output_type": "stream",
     "text": [
      "{'a', 'c', 'b'}\n"
     ]
    }
   ],
   "source": [
    "#16.  Write a code to create a set with the elements 'a', 'b', 'c' and print it.\n",
    "\n",
    "s1= {\"a\",\"b\",\"c\"}\n",
    "print(s1)"
   ]
  },
  {
   "cell_type": "code",
   "execution_count": 60,
   "id": "103abede-b54b-48fb-9ecc-84ebb343f8d4",
   "metadata": {},
   "outputs": [
    {
     "data": {
      "text/plain": [
       "set()"
      ]
     },
     "execution_count": 60,
     "metadata": {},
     "output_type": "execute_result"
    }
   ],
   "source": [
    "#17.  Write a code to clear all elements from the set {1, 2, 3, 4, 5}.\n",
    "s2= {1, 2, 3, 4, 5}\n",
    "s2.clear()\n",
    "s2"
   ]
  },
  {
   "cell_type": "code",
   "execution_count": 65,
   "id": "586d1564-ee86-46b7-bd19-56759f9946eb",
   "metadata": {},
   "outputs": [
    {
     "data": {
      "text/plain": [
       "{1, 2, 3}"
      ]
     },
     "execution_count": 65,
     "metadata": {},
     "output_type": "execute_result"
    }
   ],
   "source": [
    "#18.  Write a code to remove the element 4 from the set {1, 2, 3, 4}.\n",
    "s3= {1, 2, 3, 4}\n",
    "s3.remove(4)\n",
    "s3"
   ]
  },
  {
   "cell_type": "code",
   "execution_count": 78,
   "id": "846c63d6-5da7-47d3-8e42-4da4ce8603bb",
   "metadata": {},
   "outputs": [
    {
     "name": "stdout",
     "output_type": "stream",
     "text": [
      "Union of both the sets: {1, 2, 3, 4, 5}\n"
     ]
    }
   ],
   "source": [
    "#19. Write a code to find the union of two sets {1, 2, 3} and {3, 4, 5}.\n",
    "st1= {1, 2, 3}\n",
    "st2= {3, 4, 5}\n",
    "print(\"Union of both the sets:\",st1 | st2)"
   ]
  },
  {
   "cell_type": "code",
   "execution_count": 79,
   "id": "f4c241c0-d4c6-43b5-a753-c95eaad68ccb",
   "metadata": {},
   "outputs": [
    {
     "name": "stdout",
     "output_type": "stream",
     "text": [
      "intersection of both the sets : {2, 3}\n"
     ]
    }
   ],
   "source": [
    "#20.  Write a code to find the intersection of two sets {1, 2, 3} and {2, 3, 4}\n",
    "set1= {1, 2, 3}\n",
    "set2= {2, 3, 4}\n",
    "print(\"intersection of both the sets :\", set1 & set2)"
   ]
  },
  {
   "cell_type": "code",
   "execution_count": 83,
   "id": "9b68e505-0247-40a5-b2c0-5e38eefe8a21",
   "metadata": {},
   "outputs": [
    {
     "name": "stdout",
     "output_type": "stream",
     "text": [
      "{'name': '', 'age': '', 'city': ''}\n"
     ]
    }
   ],
   "source": [
    "#21.  Write a code to create a dictionary with the keys \"name\", \"age\", and \"city\", and print it.\n",
    "D1={\"name\":\"\" , \"age\":\"\"  ,\"city\":\"\" }\n",
    "print(D1)"
   ]
  },
  {
   "cell_type": "code",
   "execution_count": 96,
   "id": "c3a89a13-9f30-4cb2-b5e2-ccbc7c3b04ac",
   "metadata": {},
   "outputs": [
    {
     "data": {
      "text/plain": [
       "{'name': 'John', 'age': 25, 'country': 'USA'}"
      ]
     },
     "execution_count": 96,
     "metadata": {},
     "output_type": "execute_result"
    }
   ],
   "source": [
    "#22.  Write a code to add a new key-value pair \"country\": \"USA\" to the dictionary {'name': 'John', 'age': 25}.\n",
    "D2=  {'name': 'John', 'age': 25}\n",
    "D2[\"country\"] = \"USA\"\n",
    "D2"
   ]
  },
  {
   "cell_type": "code",
   "execution_count": 100,
   "id": "36b12360-f4c7-4187-97a5-5a5bdf9f3f8d",
   "metadata": {},
   "outputs": [
    {
     "data": {
      "text/plain": [
       "'Alice'"
      ]
     },
     "execution_count": 100,
     "metadata": {},
     "output_type": "execute_result"
    }
   ],
   "source": [
    "#23. Write a code to access the value associated with the key \"name\" in the dictionary {'name': 'Alice', 'age': 30}.\n",
    "D3= {'name': 'Alice', 'age': 30}\n",
    "D3[\"name\"]"
   ]
  },
  {
   "cell_type": "code",
   "execution_count": 105,
   "id": "608b5bce-1ad8-4ba0-856e-d1bfb76ecfe7",
   "metadata": {},
   "outputs": [
    {
     "data": {
      "text/plain": [
       "{'name': 'Bob', 'city': 'New York'}"
      ]
     },
     "execution_count": 105,
     "metadata": {},
     "output_type": "execute_result"
    }
   ],
   "source": [
    "#24. Write a code to remove the key \"age\" from the dictionary {'name': 'Bob', 'age': 22, 'city': 'New York'}.\n",
    "D4= {'name': 'Bob', 'age': 22, 'city': 'New York'}\n",
    "D4.pop(\"age\")\n",
    "D4"
   ]
  },
  {
   "cell_type": "code",
   "execution_count": 142,
   "id": "4312d2e8-565b-4e06-a127-caa7c2a72698",
   "metadata": {},
   "outputs": [
    {
     "ename": "TypeError",
     "evalue": "dict.keys() takes no arguments (1 given)",
     "output_type": "error",
     "traceback": [
      "\u001b[1;31m---------------------------------------------------------------------------\u001b[0m",
      "\u001b[1;31mTypeError\u001b[0m                                 Traceback (most recent call last)",
      "Cell \u001b[1;32mIn[142], line 3\u001b[0m\n\u001b[0;32m      1\u001b[0m \u001b[38;5;66;03m# 25.  Write a code to check if the key \"city\" exists in the dictionary {'name': 'Alice', 'city': 'Paris'}.\u001b[39;00m\n\u001b[0;32m      2\u001b[0m D5 \u001b[38;5;241m=\u001b[39m {\u001b[38;5;124m'\u001b[39m\u001b[38;5;124mname\u001b[39m\u001b[38;5;124m'\u001b[39m: \u001b[38;5;124m'\u001b[39m\u001b[38;5;124mAlice\u001b[39m\u001b[38;5;124m'\u001b[39m, \u001b[38;5;124m'\u001b[39m\u001b[38;5;124mcity\u001b[39m\u001b[38;5;124m'\u001b[39m: \u001b[38;5;124m'\u001b[39m\u001b[38;5;124mParis\u001b[39m\u001b[38;5;124m'\u001b[39m}\n\u001b[1;32m----> 3\u001b[0m D5\u001b[38;5;241m.\u001b[39mkeys(\u001b[38;5;124m\"\u001b[39m\u001b[38;5;124mcity\u001b[39m\u001b[38;5;124m\"\u001b[39m) \u001b[38;5;129;01min\u001b[39;00m D5\n",
      "\u001b[1;31mTypeError\u001b[0m: dict.keys() takes no arguments (1 given)"
     ]
    }
   ],
   "source": [
    "# 25.  Write a code to check if the key \"city\" exists in the dictionary {'name': 'Alice', 'city': 'Paris'}.\n",
    "D5 = {'name': 'Alice', 'city': 'Paris'}\n",
    "D5.keys(\"city\") in D5"
   ]
  },
  {
   "cell_type": "code",
   "execution_count": 143,
   "id": "28c5bb4f-0571-405e-af48-5f0f09875667",
   "metadata": {},
   "outputs": [
    {
     "name": "stdout",
     "output_type": "stream",
     "text": [
      "[1, 2, 3, 4]\n",
      "(1, 2, 3, 4)\n",
      "{'1': 'yes', '2': 'No', '3': 'Maybe', '4': 'Not really'}\n"
     ]
    }
   ],
   "source": [
    "#26. Write a code to create a list, a tuple, and a dictionary, and print them all.\n",
    "my_list= [1,2,3,4]\n",
    "my_tuple2=(1,2,3,4)\n",
    "my_dict={\"1\":\"yes\", \"2\" :\"No\" ,\"3\": \"Maybe\",\"4\" :\"Not really\"}\n",
    "print(my_list)\n",
    "print(my_tuple2)\n",
    "print(my_dict)"
   ]
  },
  {
   "cell_type": "code",
   "execution_count": 128,
   "id": "e31e30b6-f70a-4066-8878-efa9eb6a3d14",
   "metadata": {},
   "outputs": [
    {
     "name": "stdout",
     "output_type": "stream",
     "text": [
      "[4, 10, 33, 69, 97]\n"
     ]
    }
   ],
   "source": [
    "#27.  Write a code to create a list of 5 random numbers between 1 and 100, sort it in ascending order, and print the result.(replaced)\n",
    "new_list= [4,69 ,97,33,10]\n",
    "new_list.sort()\n",
    "print(new_list)"
   ]
  },
  {
   "cell_type": "code",
   "execution_count": 130,
   "id": "b1b3862e-807c-48ee-ae2f-44c5dd3a9322",
   "metadata": {},
   "outputs": [
    {
     "data": {
      "text/plain": [
       "(10, 11, 12)"
      ]
     },
     "execution_count": 130,
     "metadata": {},
     "output_type": "execute_result"
    }
   ],
   "source": [
    "#28.  Write a code to create a list with strings and print the element at the third index.\n",
    "list_1= [(1,2,3), (4,5,6), (7,8,9), (10,11,12), (13,14,15)]\n",
    "list_1[3]"
   ]
  },
  {
   "cell_type": "code",
   "execution_count": 146,
   "id": "3870258e-863b-4293-9f33-1ead913c472d",
   "metadata": {},
   "outputs": [
    {
     "name": "stdout",
     "output_type": "stream",
     "text": [
      "{'1': 'one', '2': 'two', '3': 'three', '4': 'four'}\n"
     ]
    }
   ],
   "source": [
    "#29.  Write a code to combine two dictionaries into one and print the result.\n",
    "dict_1= {\"1\":\"one\", \"2\":\"two\"}\n",
    "dict_2= {\"3\":\"three\", \"4\":\"four\"}\n",
    "Dict_3= dict_1 | dict_2 \n",
    "print(Dict_3)"
   ]
  },
  {
   "cell_type": "code",
   "execution_count": 137,
   "id": "ae077baa-d19d-47c9-bd78-1a52a8197cc4",
   "metadata": {},
   "outputs": [
    {
     "data": {
      "text/plain": [
       "{(1, 2), (3, 4)}"
      ]
     },
     "execution_count": 137,
     "metadata": {},
     "output_type": "execute_result"
    }
   ],
   "source": [
    "#30. Write a code to convert a list of strings into a set.\n",
    "List= [(1,2),(3,4)]\n",
    "st= set(List)\n",
    "st"
   ]
  },
  {
   "cell_type": "code",
   "execution_count": null,
   "id": "64b6a8bc-545b-4479-b533-851de0abfc2f",
   "metadata": {},
   "outputs": [],
   "source": []
  }
 ],
 "metadata": {
  "kernelspec": {
   "display_name": "Python [conda env:base] *",
   "language": "python",
   "name": "conda-base-py"
  },
  "language_info": {
   "codemirror_mode": {
    "name": "ipython",
    "version": 3
   },
   "file_extension": ".py",
   "mimetype": "text/x-python",
   "name": "python",
   "nbconvert_exporter": "python",
   "pygments_lexer": "ipython3",
   "version": "3.12.7"
  }
 },
 "nbformat": 4,
 "nbformat_minor": 5
}
