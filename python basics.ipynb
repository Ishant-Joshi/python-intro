{
 "cells": [
  {
   "cell_type": "markdown",
   "id": "e4749ed3-88cc-4fe8-a4e3-f32231d93a81",
   "metadata": {},
   "source": [
    "1. What is Python, and why is it popular?\n",
    "    - python is a programming language which provide flexibility and feasability in doing work. It is popular due to its easy and understandable syntax and codes. It provides compatibility in every field.\n",
    "\n",
    "2. What is an interpreter in Python?\n",
    "    - python interpretor is a language that converts codes we write in to machine language(binary language).\n",
    "  \n",
    "3. What are pre-defined keywords in Python?\n",
    "    - pre-defined keywords are those words that are already present in python to do specific task and to run the code in the python.\n",
    "\n",
    "4. Can keywords be used as variable names?\n",
    "    - Yes, you can use keywords as variable in python but when you try to do the same variable as keyword again in python, it will show error and the use-case of the keyword will be seized. \n",
    "\n",
    "5. What is mutability in Python ?\n",
    "    - Mutability is a term that is used to alter value in the list, sets, dictionaries,etc.\n",
    "\n",
    "6. Why are lists mutable, but tuples are immutable?\n",
    "    - lists are mutable but tuples are not because python interpreter is defined in such a way that it identifies which is a list and which is tuple.\n",
    "\n",
    "7. What is the difference between “==” and “is” operators in Python?\n",
    "    - \"==\" is referred as boolean value where as \"is\" referred to \"equal\" to value.\n",
    "    - \n",
    "8. What are logical operators in Python?\n",
    "    - logical operators in python are \"and\" / \"or\" . Both the values contain there own use case.\n",
    "\n",
    "9. What is type casting in Python?\n",
    "    - Type casting is changing of one data type to another.\n",
    "\n",
    "10. What is the difference between implicit and explicit type casting ?\n",
    "    - Implicit type casting means No need of defining data type before running the code.\n",
    "    - explicit type casting mean need to define data type everytime we try to execute the code.\n",
    "\n",
    "11. What is the purpose of conditional statements in Python?\n",
    "    - Conditional statements are used to in any program when there are multiple choices. It is also used when we have to make the decision.\n",
    "\n",
    "12. How does the elif statement work ?\n",
    "    - \"elif\" statement works when \"if\" statement is not satisfied then the \"elif\" statment executed.\n",
    "\n",
    "13. What is the difference between for and while loops?\n",
    "    - Both of them are the same and do the same thing but there are some differences which are as follows:\n",
    "    - when we use while loop- the loop will execute the same thing over and over again without any break.\n",
    "    - when we use for loop- the loop will execute the full process and once the full code executed, the loop will break.\n",
    "\n",
    "14. Describe a scenario where a while loop is more suitable than a for loop.\n",
    "    - while loop work on conditions like \"True or False\".\n",
    "    - whenever we want to make decision out of two choice. we can use while loop.\n",
    "    - when the condition of the while loop is fulfilled, it will execute the code but the when the condition doesn't meet the requirement then it will automatically break the loop.\n",
    "    \n"
   ]
  },
  {
   "cell_type": "markdown",
   "id": "97a198f0-cb4e-41df-9de5-d07ae5e40f49",
   "metadata": {},
   "source": [
    "Practical question"
   ]
  },
  {
   "cell_type": "code",
   "execution_count": 3,
   "id": "6a621a14-970b-4a13-9ce8-701462023c43",
   "metadata": {},
   "outputs": [
    {
     "name": "stdout",
     "output_type": "stream",
     "text": [
      "Hello, World!\n"
     ]
    }
   ],
   "source": [
    "# 1. Write a Python program to print \"Hello, World!\"\n",
    "print(\"Hello, World!\")"
   ]
  },
  {
   "cell_type": "code",
   "execution_count": 32,
   "id": "81244807-15fd-4a9a-8780-6136313ce1f9",
   "metadata": {},
   "outputs": [
    {
     "name": "stdout",
     "output_type": "stream",
     "text": [
      "Name is: XYZ\n",
      "Age is:  19\n"
     ]
    }
   ],
   "source": [
    "# 2. Write a Python program that displays your name and age.\n",
    "Nme = \"XYZ\"\n",
    "Ag = 19\n",
    "print(\"Name is:\",  Nme )\n",
    "print(\"Age is: \", Ag)"
   ]
  },
  {
   "cell_type": "code",
   "execution_count": 38,
   "id": "27043476-6131-4ea7-8521-4dee86867e3b",
   "metadata": {},
   "outputs": [
    {
     "ename": "SyntaxError",
     "evalue": "invalid syntax (1664037841.py, line 2)",
     "output_type": "error",
     "traceback": [
      "\u001b[1;36m  Cell \u001b[1;32mIn[38], line 2\u001b[1;36m\u001b[0m\n\u001b[1;33m    import(keyword)\u001b[0m\n\u001b[1;37m          ^\u001b[0m\n\u001b[1;31mSyntaxError\u001b[0m\u001b[1;31m:\u001b[0m invalid syntax\n"
     ]
    }
   ],
   "source": [
    "# 3. Write code to print all the pre-defined keywords in Python using the keyword library.\n",
    "import(keyword)\n",
    "print(keyword.library)\n"
   ]
  },
  {
   "cell_type": "code",
   "execution_count": 39,
   "id": "a53b0130-0299-40be-8d6e-ac7535babb5c",
   "metadata": {},
   "outputs": [],
   "source": [
    "#4. Write a program that checks if a given word is a Python keyword.\n"
   ]
  },
  {
   "cell_type": "code",
   "execution_count": 45,
   "id": "2ae41469-2174-4ce7-98c4-6b8180737dd0",
   "metadata": {},
   "outputs": [
    {
     "data": {
      "text/plain": [
       "[2.5, 9.5, 'raj', 'biscuit']"
      ]
     },
     "execution_count": 45,
     "metadata": {},
     "output_type": "execute_result"
    }
   ],
   "source": [
    "#5.  Create a list and tuple in Python, and demonstrate how attempting to change an element works differently for each.\n",
    "list = [2.5, 4, \"raj\", \"biscuit\"]\n",
    "tuple = (4, 5, 1.2, \"potato\", \"ketchup\")\n",
    "\n",
    "list[1]= 9.5\n",
    "# tuple is immutable so changing is not possible.\n",
    "list"
   ]
  },
  {
   "cell_type": "code",
   "execution_count": 46,
   "id": "e2a25ceb-3f6a-4a15-80fb-0506ba97da0b",
   "metadata": {},
   "outputs": [],
   "source": [
    "#6.  Write a function to demonstrate the behavior of mutable and immutable arguments.\n",
    "# Its not covered yet."
   ]
  },
  {
   "cell_type": "code",
   "execution_count": 53,
   "id": "0f77f454-5aea-4bc1-a285-3aa8ec267238",
   "metadata": {},
   "outputs": [
    {
     "name": "stdin",
     "output_type": "stream",
     "text": [
      "enter first number 2\n",
      "enter second number 12\n"
     ]
    },
    {
     "name": "stdout",
     "output_type": "stream",
     "text": [
      "Addition: 14\n",
      "Subtraction: -10\n",
      "multiplication: 24\n",
      "division: 0.16666666666666666\n"
     ]
    }
   ],
   "source": [
    "#7.  Write a program that performs basic arithmetic operations on two user-input numbers.\n",
    "fst_num= int(input(\"enter first number\"))\n",
    "sec_num= int(input(\"enter second number\"))\n",
    "\n",
    "print(\"Addition:\" ,fst_num + sec_num)\n",
    "print(\"Subtraction:\" ,fst_num - sec_num)\n",
    "print(\"multiplication:\" ,fst_num * sec_num)\n",
    "print(\"division:\" ,fst_num / sec_num)"
   ]
  },
  {
   "cell_type": "code",
   "execution_count": 61,
   "id": "5a22ba2c-08dd-4302-99f1-958f2fe91af8",
   "metadata": {},
   "outputs": [
    {
     "name": "stdin",
     "output_type": "stream",
     "text": [
      "age 11\n"
     ]
    },
    {
     "name": "stdout",
     "output_type": "stream",
     "text": [
      "need to control sugar intake\n"
     ]
    }
   ],
   "source": [
    "# 8. Write a program to demonstrate the use of logical operators.\n",
    "\n",
    "age = int(input(\"age\"))\n",
    "diabetes = True\n",
    "#and operator:\n",
    "if age < 12 and diabetes:\n",
    "    print(\"need medication\")\n",
    "#or operator\n",
    "if age> 12 or diabetes:\n",
    "    print (\"need to control sugar intake\")\n"
   ]
  },
  {
   "cell_type": "code",
   "execution_count": 69,
   "id": "b9fd0bd1-8823-4bc1-82bc-86b568e10023",
   "metadata": {},
   "outputs": [],
   "source": [
    "# 9. Write a Python program to convert user input from string to integer, float, and boolean types.\n",
    "A= \"234\"\n",
    "A= int(A)"
   ]
  },
  {
   "cell_type": "code",
   "execution_count": 70,
   "id": "591cb94d-cf71-41e7-b1d7-96497cdb77b0",
   "metadata": {},
   "outputs": [
    {
     "data": {
      "text/plain": [
       "234"
      ]
     },
     "execution_count": 70,
     "metadata": {},
     "output_type": "execute_result"
    }
   ],
   "source": [
    "A"
   ]
  },
  {
   "cell_type": "code",
   "execution_count": 67,
   "id": "26b47060-bef4-4958-81ec-3ed62f82ccfb",
   "metadata": {},
   "outputs": [],
   "source": [
    "A= \"456\"\n",
    "A= float(A)"
   ]
  },
  {
   "cell_type": "code",
   "execution_count": 68,
   "id": "a73d5c19-42e9-494b-84f3-16637f06fdd9",
   "metadata": {},
   "outputs": [
    {
     "data": {
      "text/plain": [
       "456.0"
      ]
     },
     "execution_count": 68,
     "metadata": {},
     "output_type": "execute_result"
    }
   ],
   "source": [
    "A"
   ]
  },
  {
   "cell_type": "code",
   "execution_count": 71,
   "id": "fe1fb1f8-a520-4431-ae45-7e35be8cd7b8",
   "metadata": {},
   "outputs": [],
   "source": [
    "A= \"789\"\n",
    "A= bool(A)"
   ]
  },
  {
   "cell_type": "code",
   "execution_count": 72,
   "id": "c15e9e06-66ef-40f4-9920-57cd9290bc52",
   "metadata": {},
   "outputs": [
    {
     "data": {
      "text/plain": [
       "True"
      ]
     },
     "execution_count": 72,
     "metadata": {},
     "output_type": "execute_result"
    }
   ],
   "source": [
    "A"
   ]
  },
  {
   "cell_type": "code",
   "execution_count": 92,
   "id": "e37efd41-8fac-4178-8d99-86ab52ed32af",
   "metadata": {},
   "outputs": [],
   "source": [
    "# 10. Write code to demonstrate type casting with list elements.\n",
    "B= [234, 56, 5.9, \"raj\",\"chair\", \"mango\", True]\n",
    "\n",
    "B[2]= int(5.9)\n",
    "B[6]= str(True)\n",
    "B[0]= float(234)"
   ]
  },
  {
   "cell_type": "code",
   "execution_count": 93,
   "id": "21864963-5f95-46fb-89e8-83d6acb92586",
   "metadata": {},
   "outputs": [
    {
     "data": {
      "text/plain": [
       "[234.0, 56, 5, 'raj', 'chair', 'mango', 'True']"
      ]
     },
     "execution_count": 93,
     "metadata": {},
     "output_type": "execute_result"
    }
   ],
   "source": [
    "B"
   ]
  },
  {
   "cell_type": "code",
   "execution_count": 100,
   "id": "0b14972d-9f50-4526-88bb-2e6b199726d3",
   "metadata": {},
   "outputs": [
    {
     "name": "stdin",
     "output_type": "stream",
     "text": [
      "enter a number 1\n"
     ]
    },
    {
     "name": "stdout",
     "output_type": "stream",
     "text": [
      "positive\n"
     ]
    }
   ],
   "source": [
    "# 11. Write a program that checks if a number is positive, negative, or zero.\n",
    "a= int(input(\"enter a number\"))\n",
    "if a < 0:\n",
    "    print(\"negative\")\n",
    "\n",
    "elif a> 0:\n",
    "    print(\"positive\")\n",
    "\n",
    "else:\n",
    "    print(\"zero\")"
   ]
  },
  {
   "cell_type": "code",
   "execution_count": 101,
   "id": "f1c73178-f4d1-47e9-81dc-4bf8f1ba61e0",
   "metadata": {},
   "outputs": [
    {
     "name": "stdout",
     "output_type": "stream",
     "text": [
      "1\n",
      "2\n",
      "3\n",
      "4\n",
      "5\n",
      "6\n",
      "7\n",
      "8\n",
      "9\n",
      "10\n"
     ]
    }
   ],
   "source": [
    "#12. Write a for loop to print numbers from 1 to 10.\n",
    "for i in range(1,11):\n",
    "    print(i)"
   ]
  },
  {
   "cell_type": "code",
   "execution_count": 3,
   "id": "d93381e6-8d20-4321-8a64-34baa843b450",
   "metadata": {},
   "outputs": [
    {
     "name": "stdout",
     "output_type": "stream",
     "text": [
      "650\n"
     ]
    }
   ],
   "source": [
    "#13. Write a Python program to find the sum of all even numbers between 1 and 50.\n",
    "a= 1\n",
    "total= 0\n",
    "while a <= 50:\n",
    "    if a % 2== 0:\n",
    "        total += a\n",
    "    a += 1\n",
    "print(total)\n"
   ]
  },
  {
   "cell_type": "code",
   "execution_count": null,
   "id": "e5c55d42-94c3-4b0b-9b88-35605eb3cae1",
   "metadata": {},
   "outputs": [],
   "source": [
    "# 14. Write a program to reverse a string using a while loop.\n",
    "# dont know\n"
   ]
  },
  {
   "cell_type": "code",
   "execution_count": 9,
   "id": "b9dc7dd1-bfa2-4b7e-b8e6-71f9e043669d",
   "metadata": {},
   "outputs": [
    {
     "name": "stdout",
     "output_type": "stream",
     "text": [
      "2\n"
     ]
    }
   ],
   "source": [
    "# 15. Write a Python program to calculate the factorial of a number provided by the user using a while loop.\n",
    "i= 2\n",
    "factorial = 1\n",
    "if i <= 10:\n",
    "    factorial *= i\n",
    "    i += 1\n",
    "    print (factorial)"
   ]
  },
  {
   "cell_type": "code",
   "execution_count": null,
   "id": "2ef43ad4-4474-49bf-a36a-ec9d592a77dc",
   "metadata": {},
   "outputs": [],
   "source": []
  }
 ],
 "metadata": {
  "kernelspec": {
   "display_name": "Python [conda env:base] *",
   "language": "python",
   "name": "conda-base-py"
  },
  "language_info": {
   "codemirror_mode": {
    "name": "ipython",
    "version": 3
   },
   "file_extension": ".py",
   "mimetype": "text/x-python",
   "name": "python",
   "nbconvert_exporter": "python",
   "pygments_lexer": "ipython3",
   "version": "3.12.7"
  }
 },
 "nbformat": 4,
 "nbformat_minor": 5
}
